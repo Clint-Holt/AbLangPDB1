{
 "cells": [
  {
   "cell_type": "markdown",
   "metadata": {},
   "source": [
    "# Test vs Test Benchmarking Pipeline with Excel Export\n",
    "\n",
    "This notebook provides a complete workflow for:\n",
    "1. Running comprehensive benchmarks across multiple models and datasets using **TEST vs TEST** comparisons\n",
    "2. Using **VAL vs VAL** comparisons for F1 threshold optimization\n",
    "3. Generating standardized summary files\n",
    "4. Creating formatted Excel reports with performance rankings\n",
    "\n",
    "**Models included:**\n",
    "- **AbLang Family**: AbLangPDB, AbLangRBD, AbLangPre, AbLang2, AbLang-Heavy (cosine similarity)\n",
    "- **Other Protein LMs**: AntiBERTy, BALM, ESM-2, IgBERT, Parapred (cosine similarity)\n",
    "- **Sequence-based**: SEQID (sequence identity), CDRH3ID (CDRH3 identity)\n",
    "- **Note**: ABodyBuilder2 DTW configurations are excluded from this analysis\n",
    "\n",
    "**Datasets:**\n",
    "- SAbDab (structural antibody database)\n",
    "- DMS (deep mutational scanning)\n",
    "\n",
    "**Key Differences from Train vs Test Analysis:**\n",
    "- Compares test antibodies against other test antibodies\n",
    "- Uses validation set for threshold optimization instead of training set\n",
    "- Uses test vs test label matrices and val vs val label matrices\n",
    "- Excludes ABodyBuilder2 structural similarity calculations\n",
    "\n",
    "**Features:**\n",
    "- Works with ALL available parquet files in the benchmarking directory\n",
    "- Optional embedding re-calculation toggle (disabled by default)\n",
    "- Optional threshold reuse for faster re-runs\n",
    "- Comprehensive error handling and logging\n",
    "- Supports 12 different models across both datasets"
   ]
  },
  {
   "cell_type": "markdown",
   "metadata": {},
   "source": [
    "## Configuration Flags"
   ]
  },
  {
   "cell_type": "code",
   "execution_count": 1,
   "metadata": {},
   "outputs": [
    {
     "name": "stdout",
     "output_type": "stream",
     "text": [
      "Configuration:\n",
      "  • Recalculate embeddings: False\n",
      "  • Recalculate summary metrics: False\n",
      "  • Output folder: output_csvs_test\n",
      "  • Excel filename: comprehensive_benchmarking_results_test.xlsx\n",
      "  • Batch size: 256\n",
      "\n",
      "📝 Note: This notebook supports test vs test comparisons:\n",
      "  • Models: AbLangPDB, AbLangRBD, AbLangPre, AbLang2, AbLang-Heavy,\n",
      "           AntiBERTy, BALM, ESM-2, IgBERT, Parapred, SEQID, CDRH3ID\n",
      "  • Datasets: SAbDab and DMS\n",
      "  • Comparison type: TEST vs TEST (thresholded using VAL vs VAL)\n",
      "  • ABodyBuilder2 DTW configurations excluded\n",
      "  • Only existing parquet files will be processed\n",
      "  • Summary metrics will be reused if available\n"
     ]
    }
   ],
   "source": [
    "# =============================================================================\n",
    "# CONFIGURATION FLAGS - MODIFY THESE AS NEEDED\n",
    "# =============================================================================\n",
    "\n",
    "# Set to False to use existing parquet files (faster), True to re-calculate embeddings\n",
    "# NOTE: This notebook now works with ALL available parquet files in the directory\n",
    "RECALCULATE_EMBEDDINGS = False\n",
    "\n",
    "# Set to False to skip benchmark recalculation if summary files exist (faster), True to always recalculate\n",
    "RECALCULATE_SUMMARYMETRICS = False\n",
    "\n",
    "# Model paths - update these paths as needed\n",
    "MODEL_PATHS = {\n",
    "    \"AbLangPDB\": \"../../../huggingface/AbLangPDB1/ablangpdb_model.safetensors\",\n",
    "    \"AbLangRBD\": \"../../../huggingface/AbLangRBD1/model.safetensors\"\n",
    "}\n",
    "\n",
    "# Batch size for embedding generation\n",
    "BATCH_SIZE = 256\n",
    "\n",
    "# Output configuration\n",
    "OUTPUT_FOLDER = \"output_csvs_test\"\n",
    "EXCEL_FILENAME = \"comprehensive_benchmarking_results_test.xlsx\"\n",
    "\n",
    "print(f\"Configuration:\")\n",
    "print(f\"  • Recalculate embeddings: {RECALCULATE_EMBEDDINGS}\")\n",
    "print(f\"  • Recalculate summary metrics: {RECALCULATE_SUMMARYMETRICS}\")\n",
    "print(f\"  • Output folder: {OUTPUT_FOLDER}\")\n",
    "print(f\"  • Excel filename: {EXCEL_FILENAME}\")\n",
    "print(f\"  • Batch size: {BATCH_SIZE}\")\n",
    "print(f\"\\n📝 Note: This notebook supports test vs test comparisons:\")\n",
    "print(f\"  • Models: AbLangPDB, AbLangRBD, AbLangPre, AbLang2, AbLang-Heavy,\")\n",
    "print(f\"           AntiBERTy, BALM, ESM-2, IgBERT, Parapred, SEQID, CDRH3ID\")\n",
    "print(f\"  • Datasets: SAbDab and DMS\")\n",
    "print(f\"  • Comparison type: TEST vs TEST (thresholded using VAL vs VAL)\")\n",
    "print(f\"  • ABodyBuilder2 DTW configurations excluded\")\n",
    "print(f\"  • Only existing parquet files will be processed\")\n",
    "print(f\"  • Summary metrics will be {'recalculated' if RECALCULATE_SUMMARYMETRICS else 'reused if available'}\")"
   ]
  },
  {
   "cell_type": "markdown",
   "metadata": {},
   "source": [
    "## Setup and Testing"
   ]
  },
  {
   "cell_type": "code",
   "execution_count": 2,
   "metadata": {},
   "outputs": [
    {
     "name": "stdout",
     "output_type": "stream",
     "text": [
      "Using device: cuda\n"
     ]
    }
   ],
   "source": [
    "import pandas as pd\n",
    "import torch\n",
    "import numpy as np\n",
    "import os\n",
    "import sys\n",
    "from pathlib import Path\n",
    "import warnings\n",
    "import typing as T\n",
    "from torch.utils.data import DataLoader, TensorDataset\n",
    "warnings.filterwarnings('ignore')\n",
    "\n",
    "# Add parent directory to path for imports\n",
    "module_path = os.path.abspath(os.path.join('..'))\n",
    "if module_path not in sys.path:\n",
    "    sys.path.append(module_path)\n",
    "\n",
    "# Import local modules\n",
    "import calculate_metrics\n",
    "import calculate_metrics_dms\n",
    "import models\n",
    "from excel_generator import generate_results_excel, print_summary_stats\n",
    "from ablangpaired_model import AbLangPairedConfig, AbLangPaired\n",
    "\n",
    "# Device setup\n",
    "device = torch.device(\"cuda\" if torch.cuda.is_available() else \"cpu\")\n",
    "print(f\"Using device: {device}\")\n",
    "\n",
    "# Ensure output directory exists\n",
    "os.makedirs(OUTPUT_FOLDER, exist_ok=True)"
   ]
  },
  {
   "cell_type": "markdown",
   "metadata": {},
   "source": [
    "## Helper Functions"
   ]
  },
  {
   "cell_type": "code",
   "execution_count": 3,
   "metadata": {},
   "outputs": [
    {
     "name": "stdout",
     "output_type": "stream",
     "text": [
      "Helper functions loaded successfully.\n"
     ]
    }
   ],
   "source": [
    "def check_file_exists(filepath, description=\"\"):\n",
    "    \"\"\"Check if a file exists and return status.\"\"\"\n",
    "    exists = os.path.exists(filepath)\n",
    "    status = \"✅\" if exists else \"❌\"\n",
    "    print(f\"  {status} {description}: {filepath}\")\n",
    "    return exists\n",
    "\n",
    "\n",
    "def embed_with_ablangpaired(input_path: str, output_path: str, model_path: str, model_name: str):\n",
    "    \"\"\"Generate embeddings using AbLangPaired models.\n",
    "    \n",
    "        Args:\n",
    "            model_name: str. If \"ablangpre\" then the model architecture will no longer have the mixer layer.\n",
    "    \"\"\"\n",
    "    print(f\"\\n🔄 Generating {model_name} embeddings...\")\n",
    "    \n",
    "    # Load data\n",
    "    df = pd.read_parquet(input_path)\n",
    "    if \"EMBEDDING\" in df.columns:\n",
    "        df = df.drop(columns=[\"EMBEDDING\"])\n",
    "    \n",
    "    # Setup model\n",
    "    model_config = AbLangPairedConfig(checkpoint_filename=model_path)\n",
    "    is_ablangpre = model_name == \"ablangpre\"\n",
    "    model = AbLangPaired(model_config, device=device, use_pretrained=is_ablangpre)\n",
    "    \n",
    "    # Tokenize and embed using enhanced methods\n",
    "    tokenized_dataloader = models.tokenize_data(df, model_config, batch_size=BATCH_SIZE)\n",
    "    all_embeds = models.embed_dataloader(tokenized_dataloader, model, device)\n",
    "    \n",
    "    # Save\n",
    "    df['EMBEDDING'] = list(all_embeds.cpu().numpy())\n",
    "    df.to_parquet(output_path)\n",
    "    \n",
    "    print(f\"✅ {model_name} embeddings saved to {output_path}\")\n",
    "    return df\n",
    "\n",
    "\n",
    "def get_summary_file_paths(model_name: str, dataset_type: str, output_folder: str):\n",
    "    \"\"\"Get expected summary file paths for a model/dataset combination.\"\"\"\n",
    "    if dataset_type == \"sabdab\":\n",
    "        # SAbDab has both epitope and antigen summary files\n",
    "        epitope_file = os.path.join(output_folder, f\"{model_name}_sabdab_ep_summarymetrics.txt\")\n",
    "        antigen_file = os.path.join(output_folder, f\"{model_name}_sabdab_ag_summarymetrics.txt\")\n",
    "        return [epitope_file, antigen_file]\n",
    "    elif dataset_type == \"dms\":\n",
    "        # DMS has only one summary file\n",
    "        dms_file = os.path.join(output_folder, f\"{model_name}_dms_summarymetrics.txt\")\n",
    "        return [dms_file]\n",
    "    else:\n",
    "        return []\n",
    "\n",
    "\n",
    "def read_and_display_summary_results(summary_files: list, model_name: str, dataset_type: str):\n",
    "    \"\"\"Read and display results from existing summary files.\"\"\"\n",
    "    print(f\"\\n📊 Loading existing results for {model_name} on {dataset_type}:\")\n",
    "    \n",
    "    for summary_file in summary_files:\n",
    "        if os.path.exists(summary_file):\n",
    "            try:\n",
    "                with open(summary_file, 'r') as f:\n",
    "                    content = f.read().strip()\n",
    "                \n",
    "                # Extract the task type from filename\n",
    "                if \"sabdab_ep\" in summary_file:\n",
    "                    task_type = \"Epitope-level performance\"\n",
    "                elif \"sabdab_ag\" in summary_file:\n",
    "                    task_type = \"Antigen-level performance\"\n",
    "                else:\n",
    "                    task_type = \"Performance\"\n",
    "                \n",
    "                print(f\"\\n--- {task_type} ---\")\n",
    "                print(content)\n",
    "                \n",
    "            except Exception as e:\n",
    "                print(f\"❌ Error reading {summary_file}: {str(e)}\")\n",
    "        else:\n",
    "            print(f\"⚠️ Summary file not found: {summary_file}\")\n",
    "\n",
    "\n",
    "print(\"Helper functions loaded successfully.\")"
   ]
  },
  {
   "cell_type": "markdown",
   "metadata": {},
   "source": [
    "## Data Preparation and Embedding Generation"
   ]
  },
  {
   "cell_type": "markdown",
   "metadata": {},
   "source": [
    "### Check Required Base Files"
   ]
  },
  {
   "cell_type": "code",
   "execution_count": 4,
   "metadata": {},
   "outputs": [
    {
     "name": "stdout",
     "output_type": "stream",
     "text": [
      "📋 Checking base dataset files...\n",
      "  ✅ SAbDab base dataset: ablangpdb_renameddatasets.parquet\n",
      "  ✅ DMS base dataset: ablangrbd_renameddatasets.parquet\n",
      "  ✅ SAbDab validation labels (test vs test): ablangpdb_val_label_mat.pt\n",
      "  ✅ SAbDab test labels (test vs test): ablangpdb_test_label_mat.pt\n",
      "  ✅ DMS validation labels (test vs test): dms_val_label_mat.pt\n",
      "  ✅ DMS test labels (test vs test): dms_test_label_mat.pt\n",
      "\n",
      "✅ All base files found!\n"
     ]
    }
   ],
   "source": [
    "# Check that base dataset files exist\n",
    "print(\"📋 Checking base dataset files...\")\n",
    "\n",
    "base_files = {\n",
    "    \"SAbDab base dataset\": \"ablangpdb_renameddatasets.parquet\",\n",
    "    \"DMS base dataset\": \"ablangrbd_renameddatasets.parquet\",\n",
    "    \"SAbDab validation labels (test vs test)\": \"ablangpdb_val_label_mat.pt\",\n",
    "    \"SAbDab test labels (test vs test)\": \"ablangpdb_test_label_mat.pt\",\n",
    "    \"DMS validation labels (test vs test)\": \"dms_val_label_mat.pt\",\n",
    "    \"DMS test labels (test vs test)\": \"dms_test_label_mat.pt\"\n",
    "}\n",
    "\n",
    "missing_base_files = []\n",
    "for desc, filepath in base_files.items():\n",
    "    if not check_file_exists(filepath, desc):\n",
    "        missing_base_files.append(filepath)\n",
    "\n",
    "if missing_base_files:\n",
    "    raise FileNotFoundError(f\"Missing required base files: {missing_base_files}\")\n",
    "\n",
    "print(\"\\n✅ All base files found!\")"
   ]
  },
  {
   "cell_type": "markdown",
   "metadata": {},
   "source": [
    "### Generate Embeddings (if needed)"
   ]
  },
  {
   "cell_type": "code",
   "execution_count": null,
   "metadata": {},
   "outputs": [],
   "source": "# Check for consolidated embedding files\nconsolidated_files = {\n    \"sabdab_embeddedby_many.parquet\": \"SAbDab consolidated embeddings (all models)\",\n    \"dms_embeddedby_many.parquet\": \"DMS consolidated embeddings (all models)\"\n}\n\nprint(f\"\\n{'='*60}\")\nprint(\"CONSOLIDATED EMBEDDING FILE STATUS CHECK\")\nprint(f\"{'='*60}\")\n\nprint(\" Checking for consolidated embedding files...\")\n\nexisting_files = []\nmissing_files = []\n\nfor file_path, description in consolidated_files.items():\n    if os.path.exists(file_path):\n        print(f\"✅ Found: {description} ({file_path})\")\n        existing_files.append(file_path)\n    else:\n        print(f\"❌ Missing: {description} ({file_path})\")\n        missing_files.append(file_path)\n\nprint(f\"\\n📊 Consolidated Files Summary:\")\nprint(f\"  • Existing files: {len(existing_files)}/{len(consolidated_files)}\")\nprint(f\"  • Missing files: {len(missing_files)}\")\n\nif missing_files:\n    print(f\"\\n⚠️ Missing consolidated embedding files:\")\n    for file in missing_files:\n        print(f\"  - {file}\")\n    print(\"\\nNote: Configurations using missing files will be skipped automatically.\")\n\nprint(f\"\\n✅ Consolidated embedding file check complete!\")\n\n# Display available embedding columns if files exist\nif existing_files:\n    print(f\"\\n📊 Available embedding columns:\")\n    for file_path in existing_files:\n        try:\n            df = pd.read_parquet(file_path)\n            embedding_cols = [col for col in df.columns if col.startswith('EMBEDDING_')]\n            print(f\"  • {file_path}: {len(embedding_cols)} models\")\n            for col in sorted(embedding_cols):\n                model_name = col.replace('EMBEDDING_', '')\n                print(f\"    - {model_name}\")\n        except Exception as e:\n            print(f\"  • {file_path}: Error reading file - {str(e)}\")\n    print()"
  },
  {
   "cell_type": "markdown",
   "metadata": {},
   "source": [
    "### Verify All Required Files"
   ]
  },
  {
   "cell_type": "code",
   "execution_count": null,
   "metadata": {},
   "outputs": [],
   "source": "# Check that all required files now exist\nprint(\"\\n📋 Verifying all required files...\")\n\nall_required_files = {\n    # Consolidated embedding datasets\n    \"SAbDab consolidated embeddings\": \"sabdab_embeddedby_many.parquet\",\n    \"DMS consolidated embeddings\": \"dms_embeddedby_many.parquet\",\n    \n    # Label matrices (test vs test)\n    \"SAbDab validation labels (test vs test)\": \"ablangpdb_val_label_mat.pt\",\n    \"SAbDab test labels (test vs test)\": \"ablangpdb_test_label_mat.pt\",\n    \"DMS validation labels (test vs test)\": \"dms_val_label_mat.pt\",\n    \"DMS test labels (test vs test)\": \"dms_test_label_mat.pt\"\n}\n\nmissing_files = []\nfor desc, filepath in all_required_files.items():\n    if not check_file_exists(filepath, desc):\n        missing_files.append(filepath)\n\nif missing_files:\n    print(f\"\\n⚠️ Warning: {len(missing_files)} files are missing:\")\n    for file in missing_files:\n        print(f\"  - {file}\")\n    print(\"\\nProceeding with available files only.\")\nelse:\n    print(\"\\n✅ All required files are available!\")"
  },
  {
   "cell_type": "markdown",
   "metadata": {},
   "source": [
    "## Comprehensive Model Configuration"
   ]
  },
  {
   "cell_type": "code",
   "execution_count": null,
   "metadata": {},
   "outputs": [],
   "source": "# Complete configuration for all model/dataset/metric combinations\nCONFIGS = {\n    # SAbDab Dataset Configurations - Use consolidated file\n    \"ablangpdb_sabdab_cosine\": {\n        \"df_path\": \"sabdab_embeddedby_many.parquet\",\n        \"labels_val\": \"ablangpdb_val_label_mat.pt\",\n        \"labels_test\": \"ablangpdb_test_label_mat.pt\",\n        \"model_name\": \"AbLangPDB\",\n        \"score_type\": \"cosine\",\n        \"function\": calculate_metrics.get_metrics,\n        \"dataset_type\": \"sabdab\",\n        \"embedding_column\": \"EMBEDDING_ABLANGPDB\"\n    },\n    \"ablangrbd_sabdab_cosine\": {\n        \"df_path\": \"sabdab_embeddedby_many.parquet\",\n        \"labels_val\": \"ablangpdb_val_label_mat.pt\",\n        \"labels_test\": \"ablangpdb_test_label_mat.pt\",\n        \"model_name\": \"AbLangRBD\",\n        \"score_type\": \"cosine\",\n        \"function\": calculate_metrics.get_metrics,\n        \"dataset_type\": \"sabdab\",\n        \"embedding_column\": \"EMBEDDING_ABLANGRBD\"\n    },\n    \"ablangpre_sabdab_cosine\": {\n        \"df_path\": \"sabdab_embeddedby_many.parquet\",\n        \"labels_val\": \"ablangpdb_val_label_mat.pt\",\n        \"labels_test\": \"ablangpdb_test_label_mat.pt\",\n        \"model_name\": \"AbLangPre\",\n        \"score_type\": \"cosine\",\n        \"function\": calculate_metrics.get_metrics,\n        \"dataset_type\": \"sabdab\",\n        \"embedding_column\": \"EMBEDDING_ABLANGPRE\"\n    },\n    \"ablang2_sabdab_cosine\": {\n        \"df_path\": \"sabdab_embeddedby_many.parquet\",\n        \"labels_val\": \"ablangpdb_val_label_mat.pt\",\n        \"labels_test\": \"ablangpdb_test_label_mat.pt\",\n        \"model_name\": \"AbLang2\",\n        \"score_type\": \"cosine\",\n        \"function\": calculate_metrics.get_metrics,\n        \"dataset_type\": \"sabdab\",\n        \"embedding_column\": \"EMBEDDING_ABLANG2\"\n    },\n    \"ablang_heavy_sabdab_cosine\": {\n        \"df_path\": \"sabdab_embeddedby_many.parquet\",\n        \"labels_val\": \"ablangpdb_val_label_mat.pt\",\n        \"labels_test\": \"ablangpdb_test_label_mat.pt\",\n        \"model_name\": \"AbLang-Heavy\",\n        \"score_type\": \"cosine\",\n        \"function\": calculate_metrics.get_metrics,\n        \"dataset_type\": \"sabdab\",\n        \"embedding_column\": \"EMBEDDING_ABLANG-HEAVY\"\n    },\n    \"antiberty_sabdab_cosine\": {\n        \"df_path\": \"sabdab_embeddedby_many.parquet\",\n        \"labels_val\": \"ablangpdb_val_label_mat.pt\",\n        \"labels_test\": \"ablangpdb_test_label_mat.pt\",\n        \"model_name\": \"AntiBERTy\",\n        \"score_type\": \"cosine\",\n        \"function\": calculate_metrics.get_metrics,\n        \"dataset_type\": \"sabdab\",\n        \"embedding_column\": \"EMBEDDING_ANTIBERTY\"\n    },\n    \"balm_sabdab_cosine\": {\n        \"df_path\": \"sabdab_embeddedby_many.parquet\",\n        \"labels_val\": \"ablangpdb_val_label_mat.pt\",\n        \"labels_test\": \"ablangpdb_test_label_mat.pt\",\n        \"model_name\": \"BALM\",\n        \"score_type\": \"cosine\",\n        \"function\": calculate_metrics.get_metrics,\n        \"dataset_type\": \"sabdab\",\n        \"embedding_column\": \"EMBEDDING_BALM\"\n    },\n    \"esm2_sabdab_cosine\": {\n        \"df_path\": \"sabdab_embeddedby_many.parquet\",\n        \"labels_val\": \"ablangpdb_val_label_mat.pt\",\n        \"labels_test\": \"ablangpdb_test_label_mat.pt\",\n        \"model_name\": \"ESM-2\",\n        \"score_type\": \"cosine\",\n        \"function\": calculate_metrics.get_metrics,\n        \"dataset_type\": \"sabdab\",\n        \"embedding_column\": \"EMBEDDING_ESM-2\"\n    },\n    \"igbert_sabdab_cosine\": {\n        \"df_path\": \"sabdab_embeddedby_many.parquet\",\n        \"labels_val\": \"ablangpdb_val_label_mat.pt\",\n        \"labels_test\": \"ablangpdb_test_label_mat.pt\",\n        \"model_name\": \"IgBERT\",\n        \"score_type\": \"cosine\",\n        \"function\": calculate_metrics.get_metrics,\n        \"dataset_type\": \"sabdab\",\n        \"embedding_column\": \"EMBEDDING_IGBERT\"\n    },\n    \"parapred_sabdab_cosine\": {\n        \"df_path\": \"sabdab_embeddedby_many.parquet\",\n        \"labels_val\": \"ablangpdb_val_label_mat.pt\",\n        \"labels_test\": \"ablangpdb_test_label_mat.pt\",\n        \"model_name\": \"Parapred\",\n        \"score_type\": \"cosine\",\n        \"function\": calculate_metrics.get_metrics,\n        \"dataset_type\": \"sabdab\",\n        \"embedding_column\": \"EMBEDDING_PARAPRED\"\n    },\n    \"seqid_sabdab\": {\n        \"df_path\": \"sabdab_embeddedby_many.parquet\",\n        \"labels_val\": \"ablangpdb_val_label_mat.pt\",\n        \"labels_test\": \"ablangpdb_test_label_mat.pt\",\n        \"model_name\": \"SEQID\",\n        \"score_type\": \"seq_identity\",\n        \"function\": calculate_metrics.get_metrics,\n        \"dataset_type\": \"sabdab\",\n        \"embedding_column\": \"EMBEDDING_ABLANGPDB\"  # Doesn't matter for seq_identity\n    },\n    \"cdrh3id_sabdab\": {\n        \"df_path\": \"sabdab_embeddedby_many.parquet\",\n        \"labels_val\": \"ablangpdb_val_label_mat.pt\",\n        \"labels_test\": \"ablangpdb_test_label_mat.pt\",\n        \"model_name\": \"CDRH3ID\",\n        \"score_type\": \"cdrh3_identity\",\n        \"function\": calculate_metrics.get_metrics,\n        \"dataset_type\": \"sabdab\",\n        \"embedding_column\": \"EMBEDDING_ABLANGPDB\"  # Doesn't matter for cdrh3_identity\n    },\n    \n    # DMS Dataset Configurations - Use consolidated file\n    \"ablangpdb_dms_cosine\": {\n        \"df_path\": \"dms_embeddedby_many.parquet\",\n        \"labels_val\": \"dms_val_label_mat.pt\",\n        \"labels_test\": \"dms_test_label_mat.pt\",\n        \"model_name\": \"AbLangPDB\",\n        \"score_type\": \"cosine\",\n        \"function\": calculate_metrics_dms.get_metrics_dms,\n        \"dataset_type\": \"dms\",\n        \"embedding_column\": \"EMBEDDING_ABLANGPDB\"\n    },\n    \"ablangrbd_dms_cosine\": {\n        \"df_path\": \"dms_embeddedby_many.parquet\",\n        \"labels_val\": \"dms_val_label_mat.pt\",\n        \"labels_test\": \"dms_test_label_mat.pt\",\n        \"model_name\": \"AbLangRBD\",\n        \"score_type\": \"cosine\",\n        \"function\": calculate_metrics_dms.get_metrics_dms,\n        \"dataset_type\": \"dms\",\n        \"embedding_column\": \"EMBEDDING_ABLANGRBD\"\n    },\n    \"ablangpre_dms_cosine\": {\n        \"df_path\": \"dms_embeddedby_many.parquet\",\n        \"labels_val\": \"dms_val_label_mat.pt\",\n        \"labels_test\": \"dms_test_label_mat.pt\",\n        \"model_name\": \"AbLangPre\",\n        \"score_type\": \"cosine\",\n        \"function\": calculate_metrics_dms.get_metrics_dms,\n        \"dataset_type\": \"dms\",\n        \"embedding_column\": \"EMBEDDING_ABLANGPRE\"\n    },\n    \"ablang2_dms_cosine\": {\n        \"df_path\": \"dms_embeddedby_many.parquet\",\n        \"labels_val\": \"dms_val_label_mat.pt\",\n        \"labels_test\": \"dms_test_label_mat.pt\",\n        \"model_name\": \"AbLang2\",\n        \"score_type\": \"cosine\",\n        \"function\": calculate_metrics_dms.get_metrics_dms,\n        \"dataset_type\": \"dms\",\n        \"embedding_column\": \"EMBEDDING_ABLANG2\"\n    },\n    \"ablang_heavy_dms_cosine\": {\n        \"df_path\": \"dms_embeddedby_many.parquet\",\n        \"labels_val\": \"dms_val_label_mat.pt\",\n        \"labels_test\": \"dms_test_label_mat.pt\",\n        \"model_name\": \"AbLang-Heavy\",\n        \"score_type\": \"cosine\",\n        \"function\": calculate_metrics_dms.get_metrics_dms,\n        \"dataset_type\": \"dms\",\n        \"embedding_column\": \"EMBEDDING_ABLANG-HEAVY\"\n    },\n    \"antiberty_dms_cosine\": {\n        \"df_path\": \"dms_embeddedby_many.parquet\",\n        \"labels_val\": \"dms_val_label_mat.pt\",\n        \"labels_test\": \"dms_test_label_mat.pt\",\n        \"model_name\": \"AntiBERTy\",\n        \"score_type\": \"cosine\",\n        \"function\": calculate_metrics_dms.get_metrics_dms,\n        \"dataset_type\": \"dms\",\n        \"embedding_column\": \"EMBEDDING_ANTIBERTY\"\n    },\n    \"balm_dms_cosine\": {\n        \"df_path\": \"dms_embeddedby_many.parquet\",\n        \"labels_val\": \"dms_val_label_mat.pt\",\n        \"labels_test\": \"dms_test_label_mat.pt\",\n        \"model_name\": \"BALM\",\n        \"score_type\": \"cosine\",\n        \"function\": calculate_metrics_dms.get_metrics_dms,\n        \"dataset_type\": \"dms\",\n        \"embedding_column\": \"EMBEDDING_BALM\"\n    },\n    \"esm2_dms_cosine\": {\n        \"df_path\": \"dms_embeddedby_many.parquet\",\n        \"labels_val\": \"dms_val_label_mat.pt\",\n        \"labels_test\": \"dms_test_label_mat.pt\",\n        \"model_name\": \"ESM-2\",\n        \"score_type\": \"cosine\",\n        \"function\": calculate_metrics_dms.get_metrics_dms,\n        \"dataset_type\": \"dms\",\n        \"embedding_column\": \"EMBEDDING_ESM-2\"\n    },\n    \"igbert_dms_cosine\": {\n        \"df_path\": \"dms_embeddedby_many.parquet\",\n        \"labels_val\": \"dms_val_label_mat.pt\",\n        \"labels_test\": \"dms_test_label_mat.pt\",\n        \"model_name\": \"IgBERT\",\n        \"score_type\": \"cosine\",\n        \"function\": calculate_metrics_dms.get_metrics_dms,\n        \"dataset_type\": \"dms\",\n        \"embedding_column\": \"EMBEDDING_IGBERT\"\n    },\n    \"parapred_dms_cosine\": {\n        \"df_path\": \"dms_embeddedby_many.parquet\",\n        \"labels_val\": \"dms_val_label_mat.pt\",\n        \"labels_test\": \"dms_test_label_mat.pt\",\n        \"model_name\": \"Parapred\",\n        \"score_type\": \"cosine\",\n        \"function\": calculate_metrics_dms.get_metrics_dms,\n        \"dataset_type\": \"dms\",\n        \"embedding_column\": \"EMBEDDING_PARAPRED\"\n    },\n    \"seqid_dms\": {\n        \"df_path\": \"dms_embeddedby_many.parquet\",\n        \"labels_val\": \"dms_val_label_mat.pt\",\n        \"labels_test\": \"dms_test_label_mat.pt\",\n        \"model_name\": \"SEQID\",\n        \"score_type\": \"seq_identity\",\n        \"function\": calculate_metrics_dms.get_metrics_dms,\n        \"dataset_type\": \"dms\",\n        \"embedding_column\": \"EMBEDDING_ABLANGRBD\"  # Doesn't matter for seq_identity\n    },\n    \"cdrh3id_dms\": {\n        \"df_path\": \"dms_embeddedby_many.parquet\",\n        \"labels_val\": \"dms_val_label_mat.pt\",\n        \"labels_test\": \"dms_test_label_mat.pt\",\n        \"model_name\": \"CDRH3ID\",\n        \"score_type\": \"cdrh3_identity\",\n        \"function\": calculate_metrics_dms.get_metrics_dms,\n        \"dataset_type\": \"dms\",\n        \"embedding_column\": \"EMBEDDING_ABLANGRBD\"  # Doesn't matter for cdrh3_identity\n    }\n}\n\nprint(f\"Configured {len(CONFIGS)} model/dataset/metric combinations:\")\nfor name, config in CONFIGS.items():\n    print(f\"  • {name}: {config['model_name']} on {config['dataset_type']} using {config['score_type']}\")\n    \nprint(f\"\\n📝 Note: ABodyBuilder2 DTW configurations have been excluded from this analysis\")"
  },
  {
   "cell_type": "markdown",
   "metadata": {},
   "source": [
    "### Filter Available Configurations"
   ]
  },
  {
   "cell_type": "code",
   "execution_count": 8,
   "metadata": {},
   "outputs": [
    {
     "name": "stdout",
     "output_type": "stream",
     "text": [
      "✅ ablangpdb_sabdab_cosine: Ready to run\n"
     ]
    },
    {
     "name": "stdout",
     "output_type": "stream",
     "text": [
      "✅ ablangrbd_sabdab_cosine: Ready to run\n",
      "✅ ablangpre_sabdab_cosine: Ready to run\n",
      "✅ ablang2_sabdab_cosine: Ready to run\n",
      "✅ ablang_heavy_sabdab_cosine: Ready to run\n",
      "✅ antiberty_sabdab_cosine: Ready to run\n",
      "✅ balm_sabdab_cosine: Ready to run\n",
      "✅ esm2_sabdab_cosine: Ready to run\n",
      "✅ igbert_sabdab_cosine: Ready to run\n",
      "✅ parapred_sabdab_cosine: Ready to run\n",
      "✅ seqid_sabdab: Ready to run\n",
      "✅ cdrh3id_sabdab: Ready to run\n",
      "✅ ablangpdb_dms_cosine: Ready to run\n",
      "✅ ablangrbd_dms_cosine: Ready to run\n",
      "✅ ablangpre_dms_cosine: Ready to run\n",
      "✅ ablang2_dms_cosine: Ready to run\n",
      "✅ ablang_heavy_dms_cosine: Ready to run\n",
      "✅ antiberty_dms_cosine: Ready to run\n",
      "✅ balm_dms_cosine: Ready to run\n",
      "✅ esm2_dms_cosine: Ready to run\n",
      "✅ igbert_dms_cosine: Ready to run\n",
      "✅ parapred_dms_cosine: Ready to run\n",
      "✅ seqid_dms: Ready to run\n",
      "✅ cdrh3id_dms: Ready to run\n",
      "\n",
      "📊 Summary:\n",
      "  • Available configurations: 24/24\n",
      "  • Missing configurations: 0\n"
     ]
    }
   ],
   "source": [
    "# Check which configurations can actually run based on available files\n",
    "available_configs = {}\n",
    "missing_configs = []\n",
    "\n",
    "for config_name, config in CONFIGS.items():\n",
    "    files_to_check = [config[\"df_path\"], config[\"labels_val\"], config[\"labels_test\"]]\n",
    "    missing_files = [f for f in files_to_check if not os.path.exists(f)]\n",
    "    \n",
    "    if not missing_files:\n",
    "        available_configs[config_name] = config\n",
    "        print(f\"✅ {config_name}: Ready to run\")\n",
    "    else:\n",
    "        missing_configs.append(config_name)\n",
    "        print(f\"❌ {config_name}: Missing files - {missing_files}\")\n",
    "\n",
    "print(f\"\\n📊 Summary:\")\n",
    "print(f\"  • Available configurations: {len(available_configs)}/{len(CONFIGS)}\")\n",
    "print(f\"  • Missing configurations: {len(missing_configs)}\")\n",
    "\n",
    "if missing_configs:\n",
    "    print(f\"\\n⚠️ Configurations that will be skipped: {', '.join(missing_configs)}\")\n",
    "\n",
    "if not available_configs:\n",
    "    raise RuntimeError(\"❌ No configurations are available to run!\")"
   ]
  },
  {
   "cell_type": "markdown",
   "metadata": {},
   "source": [
    "## Optional: Pre-computed Thresholds"
   ]
  },
  {
   "cell_type": "code",
   "execution_count": 9,
   "metadata": {},
   "outputs": [
    {
     "name": "stdout",
     "output_type": "stream",
     "text": [
      "🆕 Computing fresh thresholds for all configurations\n",
      "📝 Note: Test vs test comparisons require new threshold optimization\n"
     ]
    }
   ],
   "source": [
    "# Optional: Pre-computed thresholds to skip threshold optimization\n",
    "# NOTE: Thresholds from train vs test analysis are not valid for test vs test comparisons\n",
    "# These thresholds need to be recalculated for the new comparison type\n",
    "\n",
    "PRECOMPUTED_THRESHOLDS = {\n",
    "    # Thresholds will need to be recalculated for test vs test comparisons\n",
    "    # The original thresholds were optimized for train vs test, not test vs test\n",
    "    # Leave empty to force recalculation\n",
    "}\n",
    "\n",
    "use_precomputed = len(PRECOMPUTED_THRESHOLDS) > 0\n",
    "if use_precomputed:\n",
    "    print(f\"🔄 Using precomputed thresholds for {len(PRECOMPUTED_THRESHOLDS)} configurations\")\n",
    "    for config_name, thresholds in PRECOMPUTED_THRESHOLDS.items():\n",
    "        print(f\"  • {config_name}: {thresholds}\")\n",
    "else:\n",
    "    print(\"🆕 Computing fresh thresholds for all configurations\")\n",
    "    print(\"📝 Note: Test vs test comparisons require new threshold optimization\")"
   ]
  },
  {
   "cell_type": "code",
   "execution_count": 10,
   "metadata": {},
   "outputs": [
    {
     "data": {
      "application/vnd.microsoft.datawrangler.viewer.v0+json": {
       "columns": [
        {
         "name": "DATASET",
         "rawType": "object",
         "type": "string"
        },
        {
         "name": "count",
         "rawType": "int64",
         "type": "integer"
        }
       ],
       "ref": "ef0161e9-02df-4b90-ada4-c6cf6ee645df",
       "rows": [
        [
         "TRAIN",
         "1517"
        ],
        [
         "TEST",
         "202"
        ],
        [
         "VAL",
         "190"
        ]
       ],
       "shape": {
        "columns": 1,
        "rows": 3
       }
      },
      "text/plain": [
       "DATASET\n",
       "TRAIN    1517\n",
       "TEST      202\n",
       "VAL       190\n",
       "Name: count, dtype: int64"
      ]
     },
     "execution_count": 10,
     "metadata": {},
     "output_type": "execute_result"
    }
   ],
   "source": [
    "df = pd.read_parquet('ablangpdb_renameddatasets.parquet')\n",
    "df[\"DATASET\"].value_counts()"
   ]
  },
  {
   "cell_type": "markdown",
   "metadata": {},
   "source": [
    "## Run Comprehensive Benchmarks"
   ]
  },
  {
   "cell_type": "code",
   "execution_count": null,
   "metadata": {},
   "outputs": [],
   "source": "# Execute all available configurations\nexecution_results = {}\nfailed_configs = []\n\nprint(f\"\\n{'='*70}\")\nprint(f\"COMPREHENSIVE BENCHMARK EXECUTION\")\nprint(f\"{'='*70}\")\nprint(f\"Total configurations to run: {len(available_configs)}\")\nprint(f\"Recalculate summary metrics: {RECALCULATE_SUMMARYMETRICS}\")\n\nfor i, (config_name, config) in enumerate(available_configs.items(), 1):\n    print(f\"\\n{'='*70}\")\n    print(f\"[{i}/{len(available_configs)}] Running: {config_name}\")\n    print(f\"Model: {config['model_name']}, Dataset: {config['dataset_type']}, Score: {config['score_type']}\")\n    print(f\"{'='*70}\")\n    \n    # Check if summary files already exist and flag is False\n    if not RECALCULATE_SUMMARYMETRICS:\n        summary_files = get_summary_file_paths(config['model_name'], config['dataset_type'], OUTPUT_FOLDER)\n        all_summaries_exist = all(os.path.exists(f) for f in summary_files)\n        \n        if all_summaries_exist:\n            print(f\"📋 Summary files already exist, skipping recalculation...\")\n            read_and_display_summary_results(summary_files, config['model_name'], config['dataset_type'])\n            execution_results[config_name] = \"✅ Loaded from existing files\"\n            print(f\"\\n✅ [{i}/{len(available_configs)}] {config_name} loaded from existing files!\")\n            continue\n        else:\n            print(f\"📋 Some summary files missing, proceeding with calculation...\")\n    \n    try:\n        # Prepare arguments for TEST vs TEST comparisons\n        args = {\n            \"df_path\": config[\"df_path\"],\n            \"labels_file_val\": config[\"labels_val\"],\n            \"labels_file_test\": config[\"labels_test\"],\n            \"score_type\": config[\"score_type\"],\n            \"model_name\": config[\"model_name\"],\n            \"output_folder\": OUTPUT_FOLDER,\n            # CRITICAL FIX: Use correct dataset parameters for test vs test\n            \"dataset1\": \"VAL\",           # Use VAL for threshold optimization (VAL vs VAL)\n            \"dataset2_val\": \"VAL\",       # VAL vs VAL for F1 threshold finding\n            \"dataset2_test\": \"TEST\",     # TEST vs TEST for final evaluation\n            \"use_square_matrices\": True  # Enable proper square matrix handling\n        }\n        \n        # Add embedding_column if it exists in config\n        if \"embedding_column\" in config:\n            args[\"embedding_column\"] = config[\"embedding_column\"]\n        \n        # Add matrix file paths for ABodyBuilder2 DTW configurations (if they exist)\n        if config[\"score_type\"] == \"abodybuilder2_dtw_cdrs\":\n            args[\"matrix_file_val\"] = config[\"matrix_file_val\"]\n            args[\"matrix_file_test\"] = config[\"matrix_file_test\"]\n        \n        # Add precomputed thresholds if available\n        if config_name in PRECOMPUTED_THRESHOLDS:\n            thresholds = PRECOMPUTED_THRESHOLDS[config_name]\n            if config[\"dataset_type\"] == \"sabdab\":\n                if \"epitope_threshold\" in thresholds:\n                    args[\"epitope_threshold\"] = thresholds[\"epitope_threshold\"]\n                if \"antigen_threshold\" in thresholds:\n                    args[\"antigen_threshold\"] = thresholds[\"antigen_threshold\"]\n            elif config[\"dataset_type\"] == \"dms\":\n                if \"epitope_threshold\" in thresholds:\n                    args[\"epitope_threshold\"] = thresholds[\"epitope_threshold\"]\n        \n        # Execute the benchmark\n        print(f\"🔄 Running with parameters:\")\n        print(f\"  • Threshold optimization: VAL vs VAL\")\n        print(f\"  • Final evaluation: TEST vs TEST\")\n        print(f\"  • Square matrix mode: ENABLED\")\n        if \"embedding_column\" in config:\n            print(f\"  • Embedding column: {config['embedding_column']}\")\n        \n        config[\"function\"](**args)\n        \n        execution_results[config_name] = \"✅ Success\"\n        print(f\"\\n✅ [{i}/{len(available_configs)}] {config_name} completed successfully!\")\n        \n    except Exception as e:\n        error_msg = f\"❌ Error: {str(e)}\"\n        execution_results[config_name] = error_msg\n        failed_configs.append(config_name)\n        print(f\"\\n❌ [{i}/{len(available_configs)}] {config_name} failed: {str(e)}\")\n        continue\n\nprint(f\"\\n{'='*70}\")\nprint(\"COMPREHENSIVE BENCHMARK EXECUTION SUMMARY\")\nprint(f\"{'='*70}\")\n\nfor config_name, result in execution_results.items():\n    print(f\"{config_name:30} {result}\")\n\nsuccessful_configs = len(available_configs) - len(failed_configs)\nprint(f\"\\n📊 Results:\")\nprint(f\"  • Successful: {successful_configs}/{len(available_configs)}\")\nprint(f\"  • Failed: {len(failed_configs)}\")\n\nif failed_configs:\n    print(f\"\\n⚠️ Failed configurations: {', '.join(failed_configs)}\")\nelse:\n    print(\"\\n🎉 All available configurations completed successfully!\")"
  },
  {
   "cell_type": "code",
   "execution_count": null,
   "metadata": {},
   "outputs": [],
   "source": []
  },
  {
   "cell_type": "markdown",
   "metadata": {},
   "source": [
    "## Generate Comprehensive Excel Report"
   ]
  },
  {
   "cell_type": "code",
   "execution_count": 12,
   "metadata": {},
   "outputs": [
    {
     "name": "stdout",
     "output_type": "stream",
     "text": [
      "\n",
      "📊 Generating summary statistics...\n",
      "\n",
      "=== Summary Statistics ===\n",
      "Total summary files found: 36\n",
      "Unique models: 12 (AbLang-Heavy, AbLang2, AbLangPDB, AbLangPre, AbLangRBD, AntiBERTy, BALM, CDRH3ID, ESM-2, IgBERT, Parapred, SEQID)\n",
      "Unique datasets: 3 (dms, sabdab_ag, sabdab_ep)\n",
      "Unique score types: 3 (cdrh3_identity, cosine, seq_identity)\n",
      "Best ROC_AUC: AbLangRBD on dms (0.7279)\n",
      "Best Average_Precision: AbLangRBD on dms (0.3944)\n",
      "Best F1_Score: AbLangRBD on dms (0.3859)\n",
      "\n",
      "======================================================================\n",
      "GENERATING COMPREHENSIVE EXCEL REPORT\n",
      "======================================================================\n",
      "Collecting summary metrics from output_csvs_test...\n",
      "Found 36 summary files\n",
      "Creating pivot table...\n",
      "Pivot table created with 12 models and 9 metric columns\n",
      "Ranking values for formatting...\n",
      "Exporting to Excel: output_csvs_test/comprehensive_benchmarking_results_test.xlsx\n",
      "✅ Excel file generated successfully: output_csvs_test/comprehensive_benchmarking_results_test.xlsx\n",
      "\n",
      "🎉 Comprehensive Excel report generated successfully!\n",
      "📁 File location: output_csvs_test/comprehensive_benchmarking_results_test.xlsx\n",
      "📏 File size: 5,887 bytes\n",
      "\n",
      "📖 Excel Report Contents:\n",
      "  • Models as rows (AbLangPDB, AbLangRBD, AbLangPre, SEQID, CDRH3ID)\n",
      "  • Datasets grouped as column headers (SAbDab, DMS)\n",
      "  • Metrics: ROC-AUC, Average Precision, F1 Score\n",
      "  • Best performance: Bold formatting\n",
      "  • Second best: Italic formatting\n",
      "  • Values rounded to 4 decimal places\n"
     ]
    }
   ],
   "source": [
    "# Generate summary statistics\n",
    "print(\"\\n📊 Generating summary statistics...\")\n",
    "print_summary_stats(OUTPUT_FOLDER)\n",
    "\n",
    "print(\"\\n\" + \"=\"*70)\n",
    "print(\"GENERATING COMPREHENSIVE EXCEL REPORT\")\n",
    "print(\"=\"*70)\n",
    "\n",
    "try:\n",
    "    # Generate the Excel file\n",
    "    excel_path = generate_results_excel(\n",
    "        output_folder=OUTPUT_FOLDER,\n",
    "        excel_filename=EXCEL_FILENAME\n",
    "    )\n",
    "    \n",
    "    print(f\"\\n🎉 Comprehensive Excel report generated successfully!\")\n",
    "    print(f\"📁 File location: {excel_path}\")\n",
    "    print(f\"📏 File size: {os.path.getsize(excel_path):,} bytes\")\n",
    "    \n",
    "    # Provide usage instructions\n",
    "    print(f\"\\n📖 Excel Report Contents:\")\n",
    "    print(f\"  • Models as rows (AbLangPDB, AbLangRBD, AbLangPre, SEQID, CDRH3ID)\")\n",
    "    print(f\"  • Datasets grouped as column headers (SAbDab, DMS)\")\n",
    "    print(f\"  • Metrics: ROC-AUC, Average Precision, F1 Score\")\n",
    "    print(f\"  • Best performance: Bold formatting\")\n",
    "    print(f\"  • Second best: Italic formatting\")\n",
    "    print(f\"  • Values rounded to 4 decimal places\")\n",
    "    \n",
    "except Exception as e:\n",
    "    print(f\"❌ Error generating Excel report: {str(e)}\")\n",
    "    print(\"\\nDebugging information:\")\n",
    "    print(f\"  • Output folder: {OUTPUT_FOLDER}\")\n",
    "    print(f\"  • Files in folder: {len(os.listdir(OUTPUT_FOLDER))}\")\n",
    "    \n",
    "    # List summary files found\n",
    "    import glob\n",
    "    summary_files = glob.glob(os.path.join(OUTPUT_FOLDER, \"*summarymetrics.txt\"))\n",
    "    print(f\"  • Summary files found: {len(summary_files)}\")\n",
    "    for f in summary_files[:5]:  # Show first 5\n",
    "        print(f\"    - {os.path.basename(f)}\")\n",
    "    if len(summary_files) > 5:\n",
    "        print(f\"    - ... and {len(summary_files)-5} more\")"
   ]
  },
  {
   "cell_type": "markdown",
   "metadata": {},
   "source": [
    "## Final Summary and Analysis"
   ]
  },
  {
   "cell_type": "code",
   "execution_count": 13,
   "metadata": {},
   "outputs": [
    {
     "name": "stdout",
     "output_type": "stream",
     "text": [
      "\n",
      "======================================================================\n",
      "TEST vs TEST PIPELINE COMPLETION SUMMARY\n",
      "======================================================================\n",
      "\n",
      "🔧 Configuration:\n",
      "  • Analysis type: TEST vs TEST comparisons\n",
      "  • Threshold optimization: VAL vs VAL\n",
      "  • Recalculated embeddings: False\n",
      "  • Used precomputed thresholds: False\n",
      "  • Batch size: 256\n",
      "\n",
      "📈 Benchmarking Results:\n",
      "  • Total configurations possible: 24\n",
      "  • Configurations attempted: 24\n",
      "  • Successful runs: 24\n",
      "  • Failed runs: 0\n",
      "\n",
      "📊 Excel Report:\n",
      "  • Status: ✅ Generated successfully\n",
      "  • Location: output_csvs_test/comprehensive_benchmarking_results_test.xlsx\n",
      "  • Ready for analysis and sharing\n",
      "\n",
      "🔬 Models Configured for Benchmarking:\n",
      "  • AbLang-Heavy (cosine)\n",
      "  • AbLang2 (cosine)\n",
      "  • AbLangPDB (cosine)\n",
      "  • AbLangPre (cosine)\n",
      "  • AbLangRBD (cosine)\n",
      "  • AntiBERTy (cosine)\n",
      "  • BALM (cosine)\n",
      "  • CDRH3ID (cdrh3_identity)\n",
      "  • ESM-2 (cosine)\n",
      "  • IgBERT (cosine)\n",
      "  • Parapred (cosine)\n",
      "  • SEQID (seq_identity)\n",
      "\n",
      "📊 Datasets Configured:\n",
      "  • DMS\n",
      "  • SABDAB\n",
      "\n",
      "🎯 Key Differences from Train vs Test Analysis:\n",
      "  1. 🔄 Compares TEST antibodies against other TEST antibodies\n",
      "  2. 🎯 Uses VAL vs VAL for F1 threshold optimization\n",
      "  3. 📊 Uses test_label_mat.pt and val_label_mat.pt matrices\n",
      "  4. 🚫 Excludes ABodyBuilder2 DTW structural similarity calculations\n",
      "\n",
      "🎯 Next Steps:\n",
      "  1. 📊 Open the Excel report for comprehensive performance comparison\n",
      "  2. 🔍 Compare with train vs test results to understand differences\n",
      "  3. 📈 Analyze performance patterns in test vs test setting\n",
      "  4. 📋 Share results with your research team\n",
      "  5. 📝 Consider implications for real-world performance\n",
      "\n",
      "💡 Model Coverage Summary:\n",
      "  • Total unique models: 12\n",
      "  • Embedding-based models: AbLangPDB, AbLangRBD, AbLangPre, AbLang2,\n",
      "    AbLang-Heavy, AntiBERTy, BALM, ESM-2, IgBERT, Parapred\n",
      "  • Sequence-based models: SEQID, CDRH3ID\n",
      "  • ABodyBuilder2 DTW: Excluded from this analysis\n",
      "  • Total configurations: 24\n",
      "\n",
      "🏁 Test vs test benchmarking pipeline completed!\n",
      "\n",
      "📄 Report: output_csvs_test/comprehensive_benchmarking_results_test.xlsx\n",
      "📁 Output folder: output_csvs_test\n"
     ]
    }
   ],
   "source": [
    "print(\"\\n\" + \"=\"*70)\n",
    "print(\"TEST vs TEST PIPELINE COMPLETION SUMMARY\")\n",
    "print(\"=\"*70)\n",
    "\n",
    "print(f\"\\n🔧 Configuration:\")\n",
    "print(f\"  • Analysis type: TEST vs TEST comparisons\")\n",
    "print(f\"  • Threshold optimization: VAL vs VAL\")\n",
    "print(f\"  • Recalculated embeddings: {RECALCULATE_EMBEDDINGS}\")\n",
    "print(f\"  • Used precomputed thresholds: {use_precomputed}\")\n",
    "print(f\"  • Batch size: {BATCH_SIZE}\")\n",
    "\n",
    "print(f\"\\n📈 Benchmarking Results:\")\n",
    "print(f\"  • Total configurations possible: {len(CONFIGS)}\")\n",
    "print(f\"  • Configurations attempted: {len(available_configs)}\")\n",
    "print(f\"  • Successful runs: {successful_configs}\")\n",
    "print(f\"  • Failed runs: {len(failed_configs)}\")\n",
    "\n",
    "if os.path.exists(os.path.join(OUTPUT_FOLDER, EXCEL_FILENAME)):\n",
    "    print(f\"\\n📊 Excel Report:\")\n",
    "    print(f\"  • Status: ✅ Generated successfully\")\n",
    "    print(f\"  • Location: {os.path.join(OUTPUT_FOLDER, EXCEL_FILENAME)}\")\n",
    "    print(f\"  • Ready for analysis and sharing\")\n",
    "else:\n",
    "    print(f\"\\n📊 Excel Report:\")\n",
    "    print(f\"  • Status: ❌ Generation failed\")\n",
    "    print(f\"  • Check error messages above\")\n",
    "\n",
    "print(f\"\\n🔬 Models Configured for Benchmarking:\")\n",
    "all_models = set()\n",
    "for config_name, config in CONFIGS.items():\n",
    "    all_models.add(f\"{config['model_name']} ({config['score_type']})\")\n",
    "        \n",
    "for model in sorted(all_models):\n",
    "    print(f\"  • {model}\")\n",
    "\n",
    "print(f\"\\n📊 Datasets Configured:\")\n",
    "datasets_configured = set()\n",
    "for config_name, config in CONFIGS.items():\n",
    "    datasets_configured.add(config['dataset_type'].upper())\n",
    "        \n",
    "for dataset in sorted(datasets_configured):\n",
    "    print(f\"  • {dataset}\")\n",
    "\n",
    "print(f\"\\n🎯 Key Differences from Train vs Test Analysis:\")\n",
    "print(f\"  1. 🔄 Compares TEST antibodies against other TEST antibodies\")\n",
    "print(f\"  2. 🎯 Uses VAL vs VAL for F1 threshold optimization\")\n",
    "print(f\"  3. 📊 Uses test_label_mat.pt and val_label_mat.pt matrices\")\n",
    "print(f\"  4. 🚫 Excludes ABodyBuilder2 DTW structural similarity calculations\")\n",
    "\n",
    "print(f\"\\n🎯 Next Steps:\")\n",
    "print(f\"  1. 📊 Open the Excel report for comprehensive performance comparison\")\n",
    "print(f\"  2. 🔍 Compare with train vs test results to understand differences\")\n",
    "print(f\"  3. 📈 Analyze performance patterns in test vs test setting\")\n",
    "print(f\"  4. 📋 Share results with your research team\")\n",
    "print(f\"  5. 📝 Consider implications for real-world performance\")\n",
    "\n",
    "if failed_configs:\n",
    "    print(f\"\\n⚠️ Failed Configurations to Investigate:\")\n",
    "    for config in failed_configs:\n",
    "        print(f\"  • {config}: {execution_results[config]}\")\n",
    "\n",
    "if missing_configs:\n",
    "    print(f\"\\n❓ Configurations Not Attempted (Missing Files):\")\n",
    "    for config in missing_configs:\n",
    "        print(f\"  • {config}\")\n",
    "\n",
    "print(f\"\\n💡 Model Coverage Summary:\")\n",
    "print(f\"  • Total unique models: {len(all_models)}\")\n",
    "print(f\"  • Embedding-based models: AbLangPDB, AbLangRBD, AbLangPre, AbLang2,\")\n",
    "print(f\"    AbLang-Heavy, AntiBERTy, BALM, ESM-2, IgBERT, Parapred\")\n",
    "print(f\"  • Sequence-based models: SEQID, CDRH3ID\")\n",
    "print(f\"  • ABodyBuilder2 DTW: Excluded from this analysis\")\n",
    "print(f\"  • Total configurations: {len(CONFIGS)}\")\n",
    "\n",
    "print(f\"\\n🏁 Test vs test benchmarking pipeline completed!\")\n",
    "print(f\"\\n📄 Report: {os.path.join(OUTPUT_FOLDER, EXCEL_FILENAME)}\")\n",
    "print(f\"📁 Output folder: {OUTPUT_FOLDER}\")"
   ]
  }
 ],
 "metadata": {
  "kernelspec": {
   "display_name": "pub_clone2",
   "language": "python",
   "name": "python3"
  },
  "language_info": {
   "codemirror_mode": {
    "name": "ipython",
    "version": 3
   },
   "file_extension": ".py",
   "mimetype": "text/x-python",
   "name": "python",
   "nbconvert_exporter": "python",
   "pygments_lexer": "ipython3",
   "version": "3.8.18"
  }
 },
 "nbformat": 4,
 "nbformat_minor": 4
}